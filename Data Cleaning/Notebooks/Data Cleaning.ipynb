{
 "cells": [
  {
   "cell_type": "markdown",
   "id": "24a9330b-df51-47e1-af1d-87ff99c399fd",
   "metadata": {},
   "source": [
    "# First attempt in cleaning Kaggle Data Set"
   ]
  },
  {
   "cell_type": "markdown",
   "id": "b204ae4a-39ef-42c3-bda3-9b8daa805908",
   "metadata": {},
   "source": [
    "Kaggle data set provided here: https://www.kaggle.com/ankitkalauni/the-food-delivery-time-for-different-cuisines <br>\n",
    "Selected based on topic and the 5.9 usability rating."
   ]
  },
  {
   "cell_type": "code",
   "execution_count": 1,
   "id": "d1d3225a-1118-44bc-96aa-45d010a6e0c4",
   "metadata": {},
   "outputs": [],
   "source": [
    "# imports\n",
    "import pandas as pd\n",
    "import numpy as np\n",
    "import matplotlib as plt\n",
    "import seaborn as sn"
   ]
  },
  {
   "cell_type": "code",
   "execution_count": 2,
   "id": "14df08ff-a25e-43bd-8566-9f98e5689f7d",
   "metadata": {},
   "outputs": [
    {
     "data": {
      "text/html": [
       "<div>\n",
       "<style scoped>\n",
       "    .dataframe tbody tr th:only-of-type {\n",
       "        vertical-align: middle;\n",
       "    }\n",
       "\n",
       "    .dataframe tbody tr th {\n",
       "        vertical-align: top;\n",
       "    }\n",
       "\n",
       "    .dataframe thead th {\n",
       "        text-align: right;\n",
       "    }\n",
       "</style>\n",
       "<table border=\"1\" class=\"dataframe\">\n",
       "  <thead>\n",
       "    <tr style=\"text-align: right;\">\n",
       "      <th></th>\n",
       "      <th>Restaurant</th>\n",
       "      <th>Location</th>\n",
       "      <th>Cuisines</th>\n",
       "      <th>Average_Cost</th>\n",
       "      <th>Minimum_Order</th>\n",
       "      <th>Rating</th>\n",
       "      <th>Votes</th>\n",
       "      <th>Reviews</th>\n",
       "      <th>Delivery_Time</th>\n",
       "    </tr>\n",
       "  </thead>\n",
       "  <tbody>\n",
       "    <tr>\n",
       "      <th>0</th>\n",
       "      <td>ID_6321</td>\n",
       "      <td>FTI College, Law College Road, Pune</td>\n",
       "      <td>Fast Food, Rolls, Burger, Salad, Wraps</td>\n",
       "      <td>₹200</td>\n",
       "      <td>₹50</td>\n",
       "      <td>3.5</td>\n",
       "      <td>12</td>\n",
       "      <td>4</td>\n",
       "      <td>30 minutes</td>\n",
       "    </tr>\n",
       "    <tr>\n",
       "      <th>1</th>\n",
       "      <td>ID_2882</td>\n",
       "      <td>Sector 3, Marathalli</td>\n",
       "      <td>Ice Cream, Desserts</td>\n",
       "      <td>₹100</td>\n",
       "      <td>₹50</td>\n",
       "      <td>3.5</td>\n",
       "      <td>11</td>\n",
       "      <td>4</td>\n",
       "      <td>30 minutes</td>\n",
       "    </tr>\n",
       "    <tr>\n",
       "      <th>2</th>\n",
       "      <td>ID_1595</td>\n",
       "      <td>Mumbai Central</td>\n",
       "      <td>Italian, Street Food, Fast Food</td>\n",
       "      <td>₹150</td>\n",
       "      <td>₹50</td>\n",
       "      <td>3.6</td>\n",
       "      <td>99</td>\n",
       "      <td>30</td>\n",
       "      <td>65 minutes</td>\n",
       "    </tr>\n",
       "    <tr>\n",
       "      <th>3</th>\n",
       "      <td>ID_5929</td>\n",
       "      <td>Sector 1, Noida</td>\n",
       "      <td>Mughlai, North Indian, Chinese</td>\n",
       "      <td>₹250</td>\n",
       "      <td>₹99</td>\n",
       "      <td>3.7</td>\n",
       "      <td>176</td>\n",
       "      <td>95</td>\n",
       "      <td>30 minutes</td>\n",
       "    </tr>\n",
       "    <tr>\n",
       "      <th>4</th>\n",
       "      <td>ID_6123</td>\n",
       "      <td>Rmz Centennial, I Gate, Whitefield</td>\n",
       "      <td>Cafe, Beverages</td>\n",
       "      <td>₹200</td>\n",
       "      <td>₹99</td>\n",
       "      <td>3.2</td>\n",
       "      <td>521</td>\n",
       "      <td>235</td>\n",
       "      <td>65 minutes</td>\n",
       "    </tr>\n",
       "  </tbody>\n",
       "</table>\n",
       "</div>"
      ],
      "text/plain": [
       "  Restaurant                             Location  \\\n",
       "0    ID_6321  FTI College, Law College Road, Pune   \n",
       "1    ID_2882                 Sector 3, Marathalli   \n",
       "2    ID_1595                       Mumbai Central   \n",
       "3    ID_5929                      Sector 1, Noida   \n",
       "4    ID_6123   Rmz Centennial, I Gate, Whitefield   \n",
       "\n",
       "                                 Cuisines Average_Cost Minimum_Order Rating  \\\n",
       "0  Fast Food, Rolls, Burger, Salad, Wraps         ₹200           ₹50    3.5   \n",
       "1                     Ice Cream, Desserts         ₹100           ₹50    3.5   \n",
       "2         Italian, Street Food, Fast Food         ₹150           ₹50    3.6   \n",
       "3          Mughlai, North Indian, Chinese         ₹250           ₹99    3.7   \n",
       "4                         Cafe, Beverages         ₹200           ₹99    3.2   \n",
       "\n",
       "  Votes Reviews Delivery_Time  \n",
       "0    12       4    30 minutes  \n",
       "1    11       4    30 minutes  \n",
       "2    99      30    65 minutes  \n",
       "3   176      95    30 minutes  \n",
       "4   521     235    65 minutes  "
      ]
     },
     "execution_count": 2,
     "metadata": {},
     "output_type": "execute_result"
    }
   ],
   "source": [
    "df = pd.read_excel(\"../Data/Data_Train.xlsx\")\n",
    "df.head()"
   ]
  },
  {
   "cell_type": "code",
   "execution_count": 3,
   "id": "038fd78c-0d1d-426d-9ce2-3e36fcb52e1d",
   "metadata": {},
   "outputs": [
    {
     "name": "stdout",
     "output_type": "stream",
     "text": [
      "<class 'pandas.core.frame.DataFrame'>\n",
      "RangeIndex: 11094 entries, 0 to 11093\n",
      "Data columns (total 9 columns):\n",
      " #   Column         Non-Null Count  Dtype \n",
      "---  ------         --------------  ----- \n",
      " 0   Restaurant     11094 non-null  object\n",
      " 1   Location       11094 non-null  object\n",
      " 2   Cuisines       11094 non-null  object\n",
      " 3   Average_Cost   11094 non-null  object\n",
      " 4   Minimum_Order  11094 non-null  object\n",
      " 5   Rating         11094 non-null  object\n",
      " 6   Votes          11094 non-null  object\n",
      " 7   Reviews        11094 non-null  object\n",
      " 8   Delivery_Time  11094 non-null  object\n",
      "dtypes: object(9)\n",
      "memory usage: 780.2+ KB\n"
     ]
    }
   ],
   "source": [
    "df.info()"
   ]
  },
  {
   "cell_type": "markdown",
   "id": "10336baa-23d9-416f-9466-15eff860f8ba",
   "metadata": {},
   "source": [
    "No missing values from the information seen above. <br>\n",
    "Each column is listed as objects but the last 6 columns (Average_Cost, Minimum_Order, Rating, Votes, Reviews, Delivery_Time) should be integers."
   ]
  },
  {
   "cell_type": "code",
   "execution_count": 16,
   "id": "ac7a0a86-f542-4e82-9c79-1d0c9893c6eb",
   "metadata": {},
   "outputs": [
    {
     "data": {
      "text/plain": [
       "Index(['Restaurant', 'Location', 'Cuisines', 'Average_Cost', 'Minimum_Order',\n",
       "       'Rating', 'Votes', 'Reviews', 'Delivery_Time'],\n",
       "      dtype='object')"
      ]
     },
     "execution_count": 16,
     "metadata": {},
     "output_type": "execute_result"
    }
   ],
   "source": [
    "df.columns"
   ]
  },
  {
   "cell_type": "markdown",
   "id": "d6e37290-9672-4157-ba4a-7be5055c7e4f",
   "metadata": {},
   "source": [
    "### Average Cost clean up"
   ]
  },
  {
   "cell_type": "code",
   "execution_count": 4,
   "id": "8bccd86a-50f9-4ed5-bcbe-4077e932da76",
   "metadata": {},
   "outputs": [],
   "source": [
    "df.Average_Cost = df.Average_Cost.apply(lambda x: x.replace(\"₹\",\"\").replace(\",\",\"\")).copy()"
   ]
  },
  {
   "cell_type": "code",
   "execution_count": 5,
   "id": "d0759b14-69cc-4f6c-a1dc-be4dabbf8282",
   "metadata": {},
   "outputs": [
    {
     "data": {
      "text/plain": [
       "array(['200', '100', '150', '250', '650', '350', '800', '50', '400',\n",
       "       '600', '300', '750', '450', '550', '1000', '500', '900', '1200',\n",
       "       '950', '850', '700', '1150', 'for', '1100', '1400', '2050'],\n",
       "      dtype=object)"
      ]
     },
     "execution_count": 5,
     "metadata": {},
     "output_type": "execute_result"
    }
   ],
   "source": [
    "df.Average_Cost.unique()\n",
    "# for?"
   ]
  },
  {
   "cell_type": "code",
   "execution_count": 7,
   "id": "35ef9eb2-eb0a-413b-98ec-b06d3f170928",
   "metadata": {},
   "outputs": [
    {
     "data": {
      "text/html": [
       "<div>\n",
       "<style scoped>\n",
       "    .dataframe tbody tr th:only-of-type {\n",
       "        vertical-align: middle;\n",
       "    }\n",
       "\n",
       "    .dataframe tbody tr th {\n",
       "        vertical-align: top;\n",
       "    }\n",
       "\n",
       "    .dataframe thead th {\n",
       "        text-align: right;\n",
       "    }\n",
       "</style>\n",
       "<table border=\"1\" class=\"dataframe\">\n",
       "  <thead>\n",
       "    <tr style=\"text-align: right;\">\n",
       "      <th></th>\n",
       "      <th>Restaurant</th>\n",
       "      <th>Location</th>\n",
       "      <th>Cuisines</th>\n",
       "      <th>Average_Cost</th>\n",
       "      <th>Minimum_Order</th>\n",
       "      <th>Rating</th>\n",
       "      <th>Votes</th>\n",
       "      <th>Reviews</th>\n",
       "      <th>Delivery_Time</th>\n",
       "    </tr>\n",
       "  </thead>\n",
       "  <tbody>\n",
       "    <tr>\n",
       "      <th>6297</th>\n",
       "      <td>ID_6472</td>\n",
       "      <td>Pune University</td>\n",
       "      <td>Fast Food</td>\n",
       "      <td>for</td>\n",
       "      <td>₹50</td>\n",
       "      <td>NEW</td>\n",
       "      <td>-</td>\n",
       "      <td>-</td>\n",
       "      <td>30 minutes</td>\n",
       "    </tr>\n",
       "  </tbody>\n",
       "</table>\n",
       "</div>"
      ],
      "text/plain": [
       "     Restaurant         Location   Cuisines Average_Cost Minimum_Order Rating  \\\n",
       "6297    ID_6472  Pune University  Fast Food          for           ₹50    NEW   \n",
       "\n",
       "     Votes Reviews Delivery_Time  \n",
       "6297     -       -    30 minutes  "
      ]
     },
     "execution_count": 7,
     "metadata": {},
     "output_type": "execute_result"
    }
   ],
   "source": [
    "df.loc[df[\"Average_Cost\"] == \"for\"]"
   ]
  },
  {
   "cell_type": "code",
   "execution_count": 8,
   "id": "33e70727-11a2-4295-8abf-1ccc835edf33",
   "metadata": {},
   "outputs": [],
   "source": [
    "# Removed the row containing \"for\" in the Average Cost column\n",
    "df.drop(6297,inplace=True)"
   ]
  },
  {
   "cell_type": "code",
   "execution_count": 9,
   "id": "76737a9e-c63c-4e6b-bddb-c1bd796ed2d5",
   "metadata": {},
   "outputs": [],
   "source": [
    "df.Average_Cost = df.Average_Cost.astype(int)"
   ]
  },
  {
   "cell_type": "code",
   "execution_count": 10,
   "id": "1d567dce-9fd1-4345-a59d-3f48bfe93e9e",
   "metadata": {},
   "outputs": [
    {
     "name": "stdout",
     "output_type": "stream",
     "text": [
      "<class 'pandas.core.frame.DataFrame'>\n",
      "Int64Index: 11093 entries, 0 to 11093\n",
      "Data columns (total 9 columns):\n",
      " #   Column         Non-Null Count  Dtype \n",
      "---  ------         --------------  ----- \n",
      " 0   Restaurant     11093 non-null  object\n",
      " 1   Location       11093 non-null  object\n",
      " 2   Cuisines       11093 non-null  object\n",
      " 3   Average_Cost   11093 non-null  int32 \n",
      " 4   Minimum_Order  11093 non-null  object\n",
      " 5   Rating         11093 non-null  object\n",
      " 6   Votes          11093 non-null  object\n",
      " 7   Reviews        11093 non-null  object\n",
      " 8   Delivery_Time  11093 non-null  object\n",
      "dtypes: int32(1), object(8)\n",
      "memory usage: 823.3+ KB\n"
     ]
    }
   ],
   "source": [
    "# Check that the column is cleaned.Looks good\n",
    "df.info()"
   ]
  },
  {
   "cell_type": "markdown",
   "id": "650f0752-f2c7-41d4-b645-a834a55e665b",
   "metadata": {},
   "source": [
    "### Minimum Order clean up"
   ]
  },
  {
   "cell_type": "code",
   "execution_count": 13,
   "id": "769d17e5-421e-47fd-8bcd-d893e48ba963",
   "metadata": {},
   "outputs": [],
   "source": [
    "df.Minimum_Order = df.Minimum_Order.apply(lambda x: x.replace(\"₹\",\"\").replace(\",\",\"\")).astype(int).copy()"
   ]
  },
  {
   "cell_type": "code",
   "execution_count": 14,
   "id": "e35ec186-0216-4c7b-973c-818e06e8ce41",
   "metadata": {},
   "outputs": [
    {
     "data": {
      "text/plain": [
       "array([ 50,  99,   0, 200, 450, 350,  79, 400, 199, 500, 250, 150,  90,\n",
       "       299, 300, 240,  89,  59])"
      ]
     },
     "execution_count": 14,
     "metadata": {},
     "output_type": "execute_result"
    }
   ],
   "source": [
    "df.Minimum_Order.unique()"
   ]
  },
  {
   "cell_type": "code",
   "execution_count": 15,
   "id": "c3b6741f-c92d-4909-89b3-06f8a1bf9024",
   "metadata": {},
   "outputs": [
    {
     "name": "stdout",
     "output_type": "stream",
     "text": [
      "<class 'pandas.core.frame.DataFrame'>\n",
      "Int64Index: 11093 entries, 0 to 11093\n",
      "Data columns (total 9 columns):\n",
      " #   Column         Non-Null Count  Dtype \n",
      "---  ------         --------------  ----- \n",
      " 0   Restaurant     11093 non-null  object\n",
      " 1   Location       11093 non-null  object\n",
      " 2   Cuisines       11093 non-null  object\n",
      " 3   Average_Cost   11093 non-null  int32 \n",
      " 4   Minimum_Order  11093 non-null  int32 \n",
      " 5   Rating         11093 non-null  object\n",
      " 6   Votes          11093 non-null  object\n",
      " 7   Reviews        11093 non-null  object\n",
      " 8   Delivery_Time  11093 non-null  object\n",
      "dtypes: int32(2), object(7)\n",
      "memory usage: 780.0+ KB\n"
     ]
    }
   ],
   "source": [
    "# Check that the column is cleaned. Looks good\n",
    "df.info()"
   ]
  },
  {
   "cell_type": "markdown",
   "id": "78cbb789-4049-490d-917b-3df00381bf94",
   "metadata": {},
   "source": [
    "### Rating clean up"
   ]
  },
  {
   "cell_type": "code",
   "execution_count": 19,
   "id": "8d1ebb5c-6db8-4226-a4aa-6b254705e7fd",
   "metadata": {},
   "outputs": [
    {
     "data": {
      "text/plain": [
       "array(['3.5', '3.6', '3.7', '3.2', '3.8', '4.0', '3.9', '4.2', '-', '2.8',\n",
       "       '3.0', '3.3', '3.1', '4.7', '3.4', '4.1', 'NEW', '2.9', '4.6',\n",
       "       '4.3', '2.6', '4.5', '4.4', '4.8', '2.4', '2.7', '2.5',\n",
       "       'Opening Soon', '2.2', '4.9', '2.3', '2.1', 'Temporarily Closed'],\n",
       "      dtype=object)"
      ]
     },
     "execution_count": 19,
     "metadata": {},
     "output_type": "execute_result"
    }
   ],
   "source": [
    "df.Rating.unique()"
   ]
  },
  {
   "cell_type": "markdown",
   "id": "7cf97481-6227-40eb-828b-99631488978f",
   "metadata": {},
   "source": [
    "Rating has business hour information as well. For this clean up I will remove the rows with -, Opening Soon, Temporarily Closed and NEW."
   ]
  },
  {
   "cell_type": "code",
   "execution_count": 27,
   "id": "5c317986-a987-4917-81aa-ec5a64b04213",
   "metadata": {},
   "outputs": [
    {
     "name": "stdout",
     "output_type": "stream",
     "text": [
      "(1191, 9)\n",
      "(2073, 9)\n"
     ]
    },
    {
     "data": {
      "text/plain": [
       "(2311, 9)"
      ]
     },
     "execution_count": 27,
     "metadata": {},
     "output_type": "execute_result"
    }
   ],
   "source": [
    "# During first check it can be seen that the - is being used in place of no information.\n",
    "print(df.loc[df[\"Rating\"] == \"-\"].shape)\n",
    "print(df.loc[df[\"Votes\"] == \"-\"].shape)\n",
    "df.loc[df[\"Reviews\"] == \"-\"].shape"
   ]
  },
  {
   "cell_type": "markdown",
   "id": "a454f1ab-9959-43d6-8941-35d2f82e6673",
   "metadata": {},
   "source": [
    "Each of these is missing different amounts of information. For this I will create a new dataframe and remove everything missing (2311 rows) while the other dataframe will be used to keep order information since that is not missing."
   ]
  },
  {
   "cell_type": "code",
   "execution_count": null,
   "id": "70a89968-f782-4153-8d59-896933fec6df",
   "metadata": {},
   "outputs": [],
   "source": []
  }
 ],
 "metadata": {
  "kernelspec": {
   "display_name": "Python 3",
   "language": "python",
   "name": "python3"
  },
  "language_info": {
   "codemirror_mode": {
    "name": "ipython",
    "version": 3
   },
   "file_extension": ".py",
   "mimetype": "text/x-python",
   "name": "python",
   "nbconvert_exporter": "python",
   "pygments_lexer": "ipython3",
   "version": "3.8.8"
  }
 },
 "nbformat": 4,
 "nbformat_minor": 5
}
